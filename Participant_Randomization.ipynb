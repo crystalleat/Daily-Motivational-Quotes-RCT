{
  "nbformat": 4,
  "nbformat_minor": 0,
  "metadata": {
    "colab": {
      "provenance": [],
      "include_colab_link": true
    },
    "kernelspec": {
      "name": "python3",
      "display_name": "Python 3"
    },
    "language_info": {
      "name": "python"
    }
  },
  "cells": [
    {
      "cell_type": "markdown",
      "metadata": {
        "id": "view-in-github",
        "colab_type": "text"
      },
      "source": [
        "<a href=\"https://colab.research.google.com/github/christinabrnn/Business-Experimentation-and-Causal-Effect/blob/main/Participant_Randomization.ipynb\" target=\"_parent\"><img src=\"https://colab.research.google.com/assets/colab-badge.svg\" alt=\"Open In Colab\"/></a>"
      ]
    },
    {
      "cell_type": "code",
      "execution_count": null,
      "metadata": {
        "id": "6UtHfZmyb3X9"
      },
      "outputs": [],
      "source": [
        "import pandas as pd\n",
        "import random\n",
        "import math\n",
        "\n",
        "# List of emails\n",
        "emails = [\n",
        "    \"yeehou2@outlook.com\", \"Vogelc269@gmail.com\", \"eduardgorbunov1995@gmail.com\", \"Samkessler85@gmail.com\",\n",
        "    \"jastsai@bu.edu\", \"jerrylin@bu.edu\", \"allisonweed8@aol.com\", \"jhuangbp@bu.edu\", \"zppz24@bu.edu\",\n",
        "    \"Guypeled8@gmail.com\", \"lala900823@gmail.com\", \"Clamoureux14@gmail.com\", \"Connor_okeefe@hms.harvard.edu\",\n",
        "    \"Klnichols99@gmail.com\", \"Aaron.t.stevenson@gmail.com\", \"a25.akhil@gmail.com\", \"arthurpeng7321@gmail.com\",\n",
        "    \"jin1221@bu.edu\", \"tharfeed@bu.edu\", \"Mmiura2@illinois.edu\", \"Sydneyjablon@gmail.com\",\n",
        "    \"natashapherm12@gmail.com\", \"Nathangodbout58@gmail.com\", \"rbubis@bu.edu\", \"sanjal@bu.edu\",\n",
        "    \"Ksims24@bu.edu\", \"qmn@bu.edu\", \"Ari2705@bu.edu\", \"ymk@bu.edu\", \"achi12@bu.edu\", \"quinnvinny478@gmail.com\",\n",
        "    \"Roxy@bu.edu\", \"yycyy@bu.edu\", \"xingzhuc@bu.edu\", \"jylee2@bu.edu\", \"glennc@bu.edu\",\n",
        "    \"Collin.vincent1@yahoo.com\", \"eveme@bu.edu\", \"Lujialucia@gmail.com\", \"ryanshen@bu.edu\",\n",
        "    \"mingshu@bu.edu\", \"pratik77@bu.edu\", \"zeranh02@bu.edu\", \"Beisu.3@Gmail.com\", \"lilifu@bu.edu\",\n",
        "    \"zehui@bu.edu\", \"Xy01@bu.edu\", \"huawan@bu.edu\", \"julia.pell.02@gmail.com\", \"Laureniwest7@gmail.com\",\n",
        "    \"Atishay@bu.edu\", \"ruby0623@bu.edu\", \"Ohmsri@bu.edu\", \"edwardsher1021@gmail.com\", \"jeremiahzhu11@gmail.com\",\n",
        "    \"Themattpoon@gmail.com\", \"divyam07@bu.edu\", \"Zachvincent118@gmail.com\", \"elizabethunderhill@gmail.com\",\n",
        "    \"chiayung@bu.edu\", \"Sidhant@bu.edu\", \"rsb2@bu.edu\", \"gusdk9611@gmail.com\", \"wenxinl@bu.edu\",\n",
        "    \"chaitali@bu.edu\"\n",
        "]\n",
        "\n",
        "# List of 9 unique quotes\n",
        "quotes = [\n",
        "    \"Quote 1\", \"Quote 2\", \"Quote 3\", \"Quote 4\", \"Quote 5\",\n",
        "    \"Quote 6\", \"Quote 7\", \"Quote 8\", \"Quote 9\"\n",
        "]\n",
        "\n",
        "# Shuffle quotes and split into 3 groups for 3 days\n",
        "random.shuffle(quotes)\n",
        "daily_quotes = [quotes[i:i+3] for i in range(0, len(quotes), 3)]  # 3 quotes per day\n",
        "\n",
        "# Store results\n",
        "results = []\n",
        "\n",
        "# Run the experiment for 3 days\n",
        "for day, selected_quotes in enumerate(daily_quotes, start=1):\n",
        "    random.shuffle(emails)  # Shuffle emails each day\n",
        "    half = len(emails) // 2  # Split into treatment and control groups\n",
        "\n",
        "    treatment_group = emails[:half]\n",
        "    control_group = emails[half:]\n",
        "\n",
        "    # Evenly distribute the 3 quotes among the treatment group\n",
        "    num_per_quote = math.ceil(len(treatment_group) / 3)  # Ensure equal division\n",
        "    quote_assignments = []\n",
        "\n",
        "    for quote in selected_quotes:\n",
        "        quote_assignments.extend([quote] * num_per_quote)\n",
        "\n",
        "    random.shuffle(quote_assignments)  # Shuffle to randomize assignment\n",
        "    quote_assignments = quote_assignments[:len(treatment_group)]  # Trim excess quotes\n",
        "\n",
        "    # Store results\n",
        "    for email, quote in zip(treatment_group, quote_assignments):\n",
        "        results.append([f\"Day {day}\", email, \"Treatment\", quote])\n",
        "    for email in control_group:\n",
        "        results.append([f\"Day {day}\", email, \"Control\", \"No Quote\"])\n",
        "\n",
        "# Convert to DataFrame\n",
        "df = pd.DataFrame(results, columns=[\"Day\", \"Email\", \"Group\", \"Quote\"])\n",
        "\n",
        "# Export to Excel\n",
        "filename = \"experiment_results.xlsx\"\n",
        "df.to_excel(filename, index=False)\n",
        "\n",
        "print(f\"Excel file saved as {filename}\")\n"
      ]
    },
    {
      "cell_type": "code",
      "source": [
        "emails_new = [\"yeehou2@outlook.com\", \"Vogelc269@gmail.com\", \"eduardgorbunov1995@gmail.com\", \"Samkessler85@gmail.com\",\n",
        "          \"jastsai@bu.edu\", \"jerrylin@bu.edu\", \"allisonweed8@aol.com\", \"jhuangbp@bu.edu\", \"zppz24@bu.edu\",\n",
        "          \"Guypeled8@gmail.com\", \"lala900823@gmail.com\", \"Clamoureux14@gmail.com\", \"Connor_okeefe@hms.harvard.edu\",\n",
        "          \"Klnichols99@gmail.com\", \"Aaron.t.stevenson@gmail.com\", \"a25.akhil@gmail.com\", \"arthurpeng7321@gmail.com\",\n",
        "          \"jin1221@bu.edu\", \"tharfeed@bu.edu\", \"Mmiura2@illinois.edu\", \"Sydneyjablon@gmail.com\",\n",
        "          \"natashapherm12@gmail.com\", \"Nathangodbout58@gmail.com\", \"rbubis@bu.edu\", \"sanjal@bu.edu\",\n",
        "          \"Ksims24@bu.edu\", \"qmn@bu.edu\", \"Ari2705@bu.edu\", \"ymk@bu.edu\", \"achi12@bu.edu\", \"quinnvinny478@gmail.com\",\n",
        "          \"Roxy@bu.edu\", \"yycyy@bu.edu\", \"xingzhuc@bu.edu\", \"jylee2@bu.edu\", \"glennc@bu.edu\",\n",
        "          \"Collin.vincent1@yahoo.com\", \"eveme@bu.edu\", \"Lujialucia@gmail.com\", \"ryanshen@bu.edu\",\n",
        "          \"mingshu@bu.edu\", \"pratik77@bu.edu\", \"zeranh02@bu.edu\", \"Beisu.3@Gmail.com\", \"lilifu@bu.edu\",\n",
        "          \"zehui@bu.edu\", \"Xy01@bu.edu\", \"huawan@bu.edu\", \"julia.pell.02@gmail.com\", \"Laureniwest7@gmail.com\",\n",
        "          \"Atishay@bu.edu\", \"ruby0623@bu.edu\", \"Ohmsri@bu.edu\", \"edwardsher1021@gmail.com\", \"jeremiahzhu11@gmail.com\",\n",
        "          \"Themattpoon@gmail.com\", \"divyam07@bu.edu\", \"Zachvincent118@gmail.com\", \"elizabethunderhill@gmail.com\",\n",
        "          \"chiayung@bu.edu\", \"Sidhant@bu.edu\", \"rsb2@bu.edu\", \"gusdk9611@gmail.com\", \"wenxinl@bu.edu\",\n",
        "          \"chaitali@bu.edu\", \"sjy8987@gmail.com\", \"jmkwon0601@gmail.com\", \"Phunsokn@bu.edu\", \"dhna0615@bu.edu\", \"pp0126@bu.edu\", \"rlaalsco@bu.edu\", \"sonjeongwon621@gmail.com\"]\n",
        "\n",
        "\n",
        "\n",
        "\n",
        "\n",
        "\n"
      ],
      "metadata": {
        "id": "PyZWiKRPd_AF"
      },
      "execution_count": null,
      "outputs": []
    },
    {
      "cell_type": "code",
      "source": [
        "len(emails_new)"
      ],
      "metadata": {
        "colab": {
          "base_uri": "https://localhost:8080/"
        },
        "id": "BpEWeT_QuG7v",
        "outputId": "8c9f971b-55d3-4a1e-c3c7-d4d480e9b1e3"
      },
      "execution_count": null,
      "outputs": [
        {
          "output_type": "execute_result",
          "data": {
            "text/plain": [
              "72"
            ]
          },
          "metadata": {},
          "execution_count": 8
        }
      ]
    },
    {
      "cell_type": "code",
      "source": [
        "# List of 9 unique quotes\n",
        "quotes = [\n",
        "    \"Quote 1\", \"Quote 2\", \"Quote 3\", \"Quote 4\", \"Quote 5\",\n",
        "    \"Quote 6\", \"Quote 7\", \"Quote 8\", \"Quote 9\"\n",
        "]\n",
        "\n",
        "# Shuffle quotes and split into 3 groups for 3 days\n",
        "random.shuffle(quotes)\n",
        "daily_quotes = [quotes[i:i+3] for i in range(0, len(quotes), 3)]  # 3 quotes per day\n",
        "\n",
        "# Store results\n",
        "results = []\n",
        "\n",
        "# Run the experiment for 3 days\n",
        "for day, selected_quotes in enumerate(daily_quotes, start=1):\n",
        "    random.shuffle(emails_new)  # Shuffle emails each day\n",
        "    half = len(emails_new) // 2  # Split into treatment and control groups\n",
        "\n",
        "    treatment_group = emails_new[:half]\n",
        "    control_group = emails_new[half:]\n",
        "\n",
        "    # Evenly distribute the 3 quotes among the treatment group\n",
        "    num_per_quote = math.ceil(len(treatment_group) / 3)  # Ensure equal division\n",
        "    quote_assignments = []\n",
        "\n",
        "    for quote in selected_quotes:\n",
        "        quote_assignments.extend([quote] * num_per_quote)\n",
        "\n",
        "    random.shuffle(quote_assignments)  # Shuffle to randomize assignment\n",
        "    quote_assignments = quote_assignments[:len(treatment_group)]  # Trim excess quotes\n",
        "\n",
        "    # Store results\n",
        "    for email, quote in zip(treatment_group, quote_assignments):\n",
        "        results.append([f\"Day {day}\", email, \"Treatment\", quote])\n",
        "    for email in control_group:\n",
        "        results.append([f\"Day {day}\", email, \"Control\", \"No Quote\"])\n",
        "\n",
        "# Convert to DataFrame\n",
        "df = pd.DataFrame(results, columns=[\"Day\", \"Email\", \"Group\", \"Quote\"])\n",
        "\n",
        "# Export to Excel\n",
        "filename = \"experiment_results_final.xlsx\"\n",
        "df.to_excel(filename, index=False)\n",
        "\n",
        "print(f\"Excel file saved as {filename}\")"
      ],
      "metadata": {
        "colab": {
          "base_uri": "https://localhost:8080/"
        },
        "id": "W5EW3yjI1nKH",
        "outputId": "63fc3b65-d2f2-4847-9efe-2128f505cf7b"
      },
      "execution_count": null,
      "outputs": [
        {
          "output_type": "stream",
          "name": "stdout",
          "text": [
            "Excel file saved as experiment_results_final.xlsx\n"
          ]
        }
      ]
    }
  ]
}